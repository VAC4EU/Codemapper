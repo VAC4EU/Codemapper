{
 "cells": [
  {
   "cell_type": "code",
   "execution_count": 2,
   "metadata": {
    "collapsed": true
   },
   "outputs": [],
   "source": [
    "from data import Mappings, Databases\n",
    "from collections import OrderedDict\n",
    "import yaml\n",
    "import pymysql\n",
    "import pandas as pd\n",
    "\n",
    "def compare(s1, s2):\n",
    "    return len(s1 - s2), len(s1 & s2), len(s2 - s1)\n",
    "\n",
    "umls_db = pymysql.connect(db='UMLS2014AB_CoMap', host='127.0.0.1', user='root', password='root', port=3306)"
   ]
  },
  {
   "cell_type": "code",
   "execution_count": 6,
   "metadata": {
    "collapsed": false
   },
   "outputs": [],
   "source": [
    "project = 'safeguard'\n",
    "with open(\"../projects/{}/events.yaml\".format(project)) as f:\n",
    "    events = yaml.load(f)\n",
    "with open(\"../projects/{}/config.yaml\".format(project)) as f:\n",
    "    databases = databases = Databases.of_config(yaml.load(f))\n",
    "with open(\"../projects/{}/mappings.yaml\".format(project)) as f:\n",
    "    mappings = Mappings.of_raw_data_and_normalize(yaml.load(f), events, databases)\n",
    "\n",
    "# {DB: {code}}\n",
    "mapping_codes = {\n",
    "    db: mappings.all_codes(db)\n",
    "    for db, _ in databases\n",
    "}"
   ]
  },
  {
   "cell_type": "code",
   "execution_count": 50,
   "metadata": {
    "collapsed": true
   },
   "outputs": [],
   "source": [
    "sabs = [\"ICD10\", \"ICD10CM\", \"ICD10PCS\"]\n",
    "query = \"\"\"\n",
    "    select distinct code from MRCONSO where sab = %s\n",
    "\"\"\"\n",
    "icd10_codes = {}\n",
    "with umls_db.cursor() as cursor:\n",
    "    for sab in sabs:\n",
    "        cursor.execute(query, [sab])\n",
    "        icd10_codes[sab] = {r[0] for r in cursor.fetchall()}"
   ]
  },
  {
   "cell_type": "code",
   "execution_count": 68,
   "metadata": {
    "collapsed": false
   },
   "outputs": [
    {
     "data": {
      "text/html": [
       "<div>\n",
       "<table border=\"1\" class=\"dataframe\">\n",
       "  <thead>\n",
       "    <tr style=\"text-align: right;\">\n",
       "      <th></th>\n",
       "      <th>N</th>\n",
       "      <th>%</th>\n",
       "    </tr>\n",
       "  </thead>\n",
       "  <tbody>\n",
       "    <tr>\n",
       "      <th>ICD10</th>\n",
       "      <td>66</td>\n",
       "      <td>91.7%</td>\n",
       "    </tr>\n",
       "    <tr>\n",
       "      <th>ICD10CM</th>\n",
       "      <td>69</td>\n",
       "      <td>95.8%</td>\n",
       "    </tr>\n",
       "    <tr>\n",
       "      <th>ICD10+ICD10CM</th>\n",
       "      <td>72</td>\n",
       "      <td>100.0%</td>\n",
       "    </tr>\n",
       "    <tr>\n",
       "      <th>mapping</th>\n",
       "      <td>72</td>\n",
       "      <td>100.0%</td>\n",
       "    </tr>\n",
       "  </tbody>\n",
       "</table>\n",
       "</div>"
      ],
      "text/plain": [
       "                N       %\n",
       "ICD10          66   91.7%\n",
       "ICD10CM        69   95.8%\n",
       "ICD10+ICD10CM  72  100.0%\n",
       "mapping        72  100.0%"
      ]
     },
     "execution_count": 68,
     "metadata": {},
     "output_type": "execute_result"
    }
   ],
   "source": [
    "df = pd.Series(OrderedDict([\n",
    "    ('ICD10', len(mapping_codes['GePaRD'] & voc_codes['ICD10'])),\n",
    "    ('ICD10CM', len(mapping_codes['GePaRD'] & voc_codes['ICD10CM'])),\n",
    "    ('ICD10+ICD10CM', len(mapping_codes['GePaRD'] & (voc_codes['ICD10'] | voc_codes['ICD10CM']))),\n",
    "    ('mapping', len(mapping_codes['GePaRD'])),\n",
    "])).to_frame('N')\n",
    "df['%'] = (df.N / df.N.mapping).map('{:.1%}'.format)\n",
    "df"
   ]
  },
  {
   "cell_type": "code",
   "execution_count": 4,
   "metadata": {
    "collapsed": false
   },
   "outputs": [],
   "source": [
    "sabs = [\"ICPC\", \"ICPC2P\", \"ICPC2EENG\", \"ICPC2EDUT\", \"ICPC2ICD10ENG\"]\n",
    "query = \"\"\"\n",
    "    select distinct code from MRCONSO where sab = %s\n",
    "\"\"\"\n",
    "icpc_codes = {}\n",
    "with umls_db.cursor() as cursor:\n",
    "    for sab in sabs:\n",
    "        cursor.execute(query, [sab])\n",
    "        icpc_codes[sab] = {r[0] for r in cursor.fetchall()}"
   ]
  },
  {
   "cell_type": "code",
   "execution_count": 9,
   "metadata": {
    "collapsed": false
   },
   "outputs": [
    {
     "data": {
      "text/html": [
       "<div>\n",
       "<table border=\"1\" class=\"dataframe\">\n",
       "  <thead>\n",
       "    <tr style=\"text-align: right;\">\n",
       "      <th></th>\n",
       "      <th>N</th>\n",
       "      <th>%</th>\n",
       "    </tr>\n",
       "  </thead>\n",
       "  <tbody>\n",
       "    <tr>\n",
       "      <th>ICPC</th>\n",
       "      <td>7</td>\n",
       "      <td>100.0%</td>\n",
       "    </tr>\n",
       "    <tr>\n",
       "      <th>ICPC2P</th>\n",
       "      <td>0</td>\n",
       "      <td>0.0%</td>\n",
       "    </tr>\n",
       "    <tr>\n",
       "      <th>ICPC2EENG</th>\n",
       "      <td>7</td>\n",
       "      <td>100.0%</td>\n",
       "    </tr>\n",
       "    <tr>\n",
       "      <th>ICPC2EDUT</th>\n",
       "      <td>0</td>\n",
       "      <td>0.0%</td>\n",
       "    </tr>\n",
       "    <tr>\n",
       "      <th>ICPC2ICD10ENG</th>\n",
       "      <td>0</td>\n",
       "      <td>0.0%</td>\n",
       "    </tr>\n",
       "    <tr>\n",
       "      <th>mapping</th>\n",
       "      <td>7</td>\n",
       "      <td>100.0%</td>\n",
       "    </tr>\n",
       "  </tbody>\n",
       "</table>\n",
       "</div>"
      ],
      "text/plain": [
       "               N       %\n",
       "ICPC           7  100.0%\n",
       "ICPC2P         0    0.0%\n",
       "ICPC2EENG      7  100.0%\n",
       "ICPC2EDUT      0    0.0%\n",
       "ICPC2ICD10ENG  0    0.0%\n",
       "mapping        7  100.0%"
      ]
     },
     "execution_count": 9,
     "metadata": {},
     "output_type": "execute_result"
    }
   ],
   "source": [
    "df = pd.Series(OrderedDict([\n",
    "    ('ICPC', len(mapping_codes['IPCI'] & icpc_codes['ICPC'])),\n",
    "    ('ICPC2P', len(mapping_codes['IPCI'] & icpc_codes['ICPC2P'])),\n",
    "    ('ICPC2EENG', len(mapping_codes['IPCI'] & (icpc_codes['ICPC2EENG']))),\n",
    "    ('ICPC2EDUT', len(mapping_codes['IPCI'] & (icpc_codes['ICPC2EDUT']))),\n",
    "    ('ICPC2ICD10ENG', len(mapping_codes['IPCI'] & (icpc_codes['ICPC2ICD10ENG']))),\n",
    "    ('mapping', len(mapping_codes['IPCI'])),\n",
    "])).to_frame('N')\n",
    "df['%'] = (df.N / df.N.mapping).map('{:.1%}'.format)\n",
    "df"
   ]
  }
 ],
 "metadata": {
  "kernelspec": {
   "display_name": "Python 3",
   "language": "python",
   "name": "python3"
  },
  "language_info": {
   "codemirror_mode": {
    "name": "ipython",
    "version": 3
   },
   "file_extension": ".py",
   "mimetype": "text/x-python",
   "name": "python",
   "nbconvert_exporter": "python",
   "pygments_lexer": "ipython3",
   "version": "3.4.2"
  }
 },
 "nbformat": 4,
 "nbformat_minor": 0
}
