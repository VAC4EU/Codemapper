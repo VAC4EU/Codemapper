{
 "cells": [
  {
   "cell_type": "code",
   "execution_count": 1,
   "metadata": {
    "collapsed": true
   },
   "outputs": [],
   "source": [
    "import pymysql\n",
    "import copy\n",
    "import json"
   ]
  },
  {
   "cell_type": "code",
   "execution_count": 6,
   "metadata": {
    "collapsed": false
   },
   "outputs": [],
   "source": [
    "connection = pymysql.connect(\"127.0.0.1\", \"root\", \"root\", \"code-mapper-beta\", cursorclass=pymysql.cursors.DictCursor)"
   ]
  },
  {
   "cell_type": "markdown",
   "metadata": {},
   "source": [
    "# Upgrade"
   ]
  },
  {
   "cell_type": "code",
   "execution_count": 7,
   "metadata": {
    "collapsed": false
   },
   "outputs": [],
   "source": [
    "def upgrade(state):\n",
    "    state = copy.deepcopy(state)\n",
    "    \n",
    "    if \"cuiAssignment\" not in state:\n",
    "        print(\" - Create cuiAssignment\")\n",
    "        state['cuiAssignment'] = {}\n",
    "        cuis = [concept['cui'] for concept in state['mapping']['concepts']]\n",
    "        for concept in state['indexing']['concepts']:\n",
    "            include = concept['cui'] in cuis\n",
    "            state['cuiAssignment'][concept['cui']] = \\\n",
    "                \"include\" if include else \"exclude\"\n",
    "                \n",
    "    if 'codingSystems' not in state:\n",
    "        print(\" - Move codingSystems\")\n",
    "        assert state['mapping']['codingSystems']\n",
    "        state['codingSystems'] = state['mapping']['codingSystems']\n",
    "        del state['mapping']['codingSystems']\n",
    "        \n",
    "    if 'semanticTypes' in state['mapping']:\n",
    "        print(\" - Remove semanticTypes\")\n",
    "        del state['mapping']['semanticTypes']\n",
    "        \n",
    "    if any('comments' not in concept for concept in state['mapping']['concepts']):\n",
    "        for concept in state['mapping']['concepts']:\n",
    "            if 'comments' not in concept:\n",
    "                concept['comments'] = []        \n",
    "    \n",
    "    if any('codingSystem' not in sourceConcept\n",
    "           for concept in state['mapping']['concepts']\n",
    "           for sourceConcept in concept['sourceConcepts']):\n",
    "        print(\" - Upgrade codingSystem fields\")\n",
    "        for concept in state['mapping']['concepts']:\n",
    "            for source_concept in concept['sourceConcepts']:\n",
    "                if 'vocabulary' in source_concept:\n",
    "                    source_concept['codingSystem'] = source_concept['vocabulary']\n",
    "                    del source_concept['vocabulary']\n",
    "            for coding_system in concept['codes']:\n",
    "                for source_concept in concept['codes'][coding_system]:\n",
    "                    if 'vocabulary' in source_concept:\n",
    "                        source_concept['codingSystem'] = source_concept['vocabulary']\n",
    "                        del source_concept['vocabulary']\n",
    "    return state"
   ]
  },
  {
   "cell_type": "code",
   "execution_count": 8,
   "metadata": {
    "collapsed": false
   },
   "outputs": [
    {
     "name": "stdout",
     "output_type": "stream",
     "text": [
      "# Pertussis BB\n",
      "# test BB\n",
      "# Infectious disease KG\n",
      "# test rh\n",
      "# Dementia\n",
      "# thrombocytopenia BC\n",
      "# thrombocytopenia PLAIN\n",
      "# IHD_pmc\n",
      "# pertussis PLAIN\n",
      "# pertussis ECDC\n",
      "# anaphylaxis PLAIN\n",
      "# Bullous eruption_pmc\n",
      "# Intussusception_pmc\n",
      "# Thromboembolic events_pmc\n",
      "# Rhabdomyolysis_pmc\n",
      "# test again)IHD_pmc\n",
      "# test2\n",
      "# anaphylaxis BC\n",
      "# anaphylaxis US-IAID\n",
      "# gbs PLAIN\n",
      "# gbs BC\n",
      "# POC_pertussis\n",
      "# pertussis v2\n",
      "# aeaea\n",
      "# injection_site_recation\n",
      "# injection_site_recation-exclusion\n",
      "# fever\n",
      "# somnolence\n",
      "# crying\n",
      "# febrile seizure - convulsions\n",
      "# generalized seizure - convulsions\n",
      "# Hypotonic-hyporesponsive episode\n",
      "# pneumonia\n"
     ]
    }
   ],
   "source": [
    "query = \"\"\"\n",
    "    SELECT id, name, state FROM `case_definitions`\n",
    "\"\"\"\n",
    "update = \"\"\"\n",
    "    UPDATE `case_definitions` SET `state` = %s WHERE `id` = %s\n",
    "\"\"\"\n",
    "with connection.cursor() as cursor:\n",
    "    cursor.execute(query)\n",
    "    for case_definition in cursor.fetchall():\n",
    "        print('#', case_definition['name'])\n",
    "        state = json.loads(case_definition['state'])\n",
    "        new_state = json.dumps(upgrade(state))\n",
    "        cursor.execute(update, (new_state, case_definition['id']))\n",
    "        connection.commit()"
   ]
  },
  {
   "cell_type": "markdown",
   "metadata": {
    "collapsed": true
   },
   "source": [
    "# Validate"
   ]
  },
  {
   "cell_type": "code",
   "execution_count": 16,
   "metadata": {
    "collapsed": false
   },
   "outputs": [],
   "source": [
    "import jsonschema\n",
    "import yaml\n",
    "\n",
    "schema = yaml.load(open('state-schema.yaml'))\n",
    "\n",
    "def validate(state):\n",
    "    jsonschema.validate(state, schema)"
   ]
  },
  {
   "cell_type": "code",
   "execution_count": 17,
   "metadata": {
    "collapsed": false
   },
   "outputs": [
    {
     "name": "stdout",
     "output_type": "stream",
     "text": [
      "# Pertussis BB\n",
      "# test BB\n",
      "# Infectious disease KG\n",
      "# test rh\n",
      "# Dementia\n",
      "# thrombocytopenia BC\n",
      "# thrombocytopenia PLAIN\n",
      "# IHD_pmc\n",
      "# pertussis PLAIN\n",
      "# pertussis ECDC\n",
      "# anaphylaxis PLAIN\n",
      "# Bullous eruption_pmc\n",
      "# Intussusception_pmc\n",
      "# Thromboembolic events_pmc\n",
      "# Rhabdomyolysis_pmc\n",
      "# test again)IHD_pmc\n",
      "# test2\n",
      "# anaphylaxis BC\n",
      "# anaphylaxis US-IAID\n",
      "# gbs PLAIN\n",
      "# gbs BC\n",
      "# POC_pertussis\n",
      "# pertussis v2\n",
      "# aeaea\n",
      "# injection_site_recation\n",
      "# injection_site_recation-exclusion\n",
      "# fever\n",
      "# somnolence\n",
      "# crying\n",
      "# febrile seizure - convulsions\n",
      "# generalized seizure - convulsions\n",
      "# Hypotonic-hyporesponsive episode\n",
      "# pneumonia\n"
     ]
    },
    {
     "ename": "ValidationError",
     "evalue": "{'argument': '', 'operation': 'Change coding systems', 'user': 'd.weibel', 'result': 'ICD10CM, ICD9CM, ICPC2EENG, ICPC2P, RCD, RCD2', 'date': '2015-11-24T12:51:52.538Z'} is not valid under any of the given schemas\n\nFailed validating 'oneOf' in schema['properties']['mapping']['properties']['history']['items']:\n    {'oneOf': [{'additionalProperties': False,\n                'properties': {'argument': {'type': 'null'},\n                               'date': {'format': 'date-time',\n                                        'type': 'string'},\n                               'operation': {'enum': ['Automatic '\n                                                      'coding'],\n                                             'type': 'string'},\n                               'result': {'$ref': '#/definitions/reduced_concept_array'},\n                               'user': {'type': 'string'}},\n                'required': ['date',\n                             'user',\n                             'operation',\n                             'argument',\n                             'result'],\n                'type': 'object'},\n               {'additionalProperties': False,\n                'properties': {'argument': {'$ref': '#/definitions/reduced_concept_array'},\n                               'date': {'format': 'date-time',\n                                        'type': 'string'},\n                               'operation': {'enum': ['Expand to '\n                                                      'more specific',\n                                                      'Expand to '\n                                                      'more general'],\n                                             'type': 'string'},\n                               'result': {'$ref': '#/definitions/reduced_concept_array'},\n                               'user': {'type': 'string'}},\n                'required': ['date',\n                             'user',\n                             'operation',\n                             'argument',\n                             'result'],\n                'type': 'object'},\n               {'additionalProperties': False,\n                'properties': {'argument': {'type': 'string'},\n                               'date': {'format': 'date-time',\n                                        'type': 'string'},\n                               'operation': {'enum': ['Summarize'],\n                                             'type': 'string'},\n                               'result': {'type': 'null'},\n                               'user': {'type': 'string'}},\n                'required': ['date',\n                             'user',\n                             'operation',\n                             'argument',\n                             'result'],\n                'type': 'object'},\n               {'additionalProperties': False,\n                'properties': {'argument': {'type': 'string'},\n                               'date': {'format': 'date-time',\n                                        'type': 'string'},\n                               'operation': {'enum': ['Search'],\n                                             'type': 'string'},\n                               'result': {'$ref': '#/definitions/reduced_concept_array'},\n                               'user': {'type': 'string'}},\n                'required': ['date',\n                             'user',\n                             'operation',\n                             'argument',\n                             'result'],\n                'type': 'object'},\n               {'additionalProperties': False,\n                'properties': {'argument': {'type': 'null'},\n                               'date': {'format': 'date-time',\n                                        'type': 'string'},\n                               'operation': {'enum': ['Add'],\n                                             'type': 'string'},\n                               'result': {'$ref': '#/definitions/reduced_concept'},\n                               'user': {'type': 'string'}},\n                'required': ['date',\n                             'user',\n                             'operation',\n                             'argument',\n                             'result'],\n                'type': 'object'},\n               {'additionalProperties': False,\n                'properties': {'argument': {'$ref': '#/definitions/reduced_concept_array'},\n                               'date': {'format': 'date-time',\n                                        'type': 'string'},\n                               'operation': {'enum': ['Delete'],\n                                             'type': 'string'},\n                               'result': {'type': 'null'},\n                               'user': {'type': 'string'}},\n                'required': ['date',\n                             'user',\n                             'operation',\n                             'argument',\n                             'result'],\n                'type': 'object'},\n               {'additionalProperties': False,\n                'properties': {'argument': {'$ref': '#/definitions/reduced_concept_array'},\n                               'date': {'format': 'date-time',\n                                        'type': 'string'},\n                               'operation': {'enum': ['Edit codes'],\n                                             'type': 'string'},\n                               'result': {'type': 'string'},\n                               'user': {'type': 'string'}},\n                'required': ['date',\n                             'user',\n                             'operation',\n                             'argument',\n                             'result'],\n                'type': 'object'}]}\n\nOn instance['mapping']['history'][1]:\n    {'argument': '',\n     'date': '2015-11-24T12:51:52.538Z',\n     'operation': 'Change coding systems',\n     'result': 'ICD10CM, ICD9CM, ICPC2EENG, ICPC2P, RCD, RCD2',\n     'user': 'd.weibel'}",
     "output_type": "error",
     "traceback": [
      "\u001b[1;31m---------------------------------------------------------------------------\u001b[0m",
      "\u001b[1;31mValidationError\u001b[0m                           Traceback (most recent call last)",
      "\u001b[1;32m<ipython-input-17-4d4e18fed078>\u001b[0m in \u001b[0;36m<module>\u001b[1;34m()\u001b[0m\n\u001b[0;32m      7\u001b[0m         \u001b[0mprint\u001b[0m\u001b[1;33m(\u001b[0m\u001b[1;34m'#'\u001b[0m\u001b[1;33m,\u001b[0m \u001b[0mcase_definition\u001b[0m\u001b[1;33m[\u001b[0m\u001b[1;34m'name'\u001b[0m\u001b[1;33m]\u001b[0m\u001b[1;33m)\u001b[0m\u001b[1;33m\u001b[0m\u001b[0m\n\u001b[0;32m      8\u001b[0m         \u001b[0mstate\u001b[0m \u001b[1;33m=\u001b[0m \u001b[0mjson\u001b[0m\u001b[1;33m.\u001b[0m\u001b[0mloads\u001b[0m\u001b[1;33m(\u001b[0m\u001b[0mcase_definition\u001b[0m\u001b[1;33m[\u001b[0m\u001b[1;34m'state'\u001b[0m\u001b[1;33m]\u001b[0m\u001b[1;33m)\u001b[0m\u001b[1;33m\u001b[0m\u001b[0m\n\u001b[1;32m----> 9\u001b[1;33m         \u001b[0mvalidate\u001b[0m\u001b[1;33m(\u001b[0m\u001b[0mstate\u001b[0m\u001b[1;33m)\u001b[0m\u001b[1;33m\u001b[0m\u001b[0m\n\u001b[0m",
      "\u001b[1;32m<ipython-input-16-4b102a832fc0>\u001b[0m in \u001b[0;36mvalidate\u001b[1;34m(state)\u001b[0m\n\u001b[0;32m      5\u001b[0m \u001b[1;33m\u001b[0m\u001b[0m\n\u001b[0;32m      6\u001b[0m \u001b[1;32mdef\u001b[0m \u001b[0mvalidate\u001b[0m\u001b[1;33m(\u001b[0m\u001b[0mstate\u001b[0m\u001b[1;33m)\u001b[0m\u001b[1;33m:\u001b[0m\u001b[1;33m\u001b[0m\u001b[0m\n\u001b[1;32m----> 7\u001b[1;33m     \u001b[0mjsonschema\u001b[0m\u001b[1;33m.\u001b[0m\u001b[0mvalidate\u001b[0m\u001b[1;33m(\u001b[0m\u001b[0mstate\u001b[0m\u001b[1;33m,\u001b[0m \u001b[0mschema\u001b[0m\u001b[1;33m)\u001b[0m\u001b[1;33m\u001b[0m\u001b[0m\n\u001b[0m",
      "\u001b[1;32m/home/benus/.local/lib/python3.4/site-packages/jsonschema/validators.py\u001b[0m in \u001b[0;36mvalidate\u001b[1;34m(instance, schema, cls, *args, **kwargs)\u001b[0m\n\u001b[0;32m    476\u001b[0m         \u001b[0mcls\u001b[0m \u001b[1;33m=\u001b[0m \u001b[0mvalidator_for\u001b[0m\u001b[1;33m(\u001b[0m\u001b[0mschema\u001b[0m\u001b[1;33m)\u001b[0m\u001b[1;33m\u001b[0m\u001b[0m\n\u001b[0;32m    477\u001b[0m     \u001b[0mcls\u001b[0m\u001b[1;33m.\u001b[0m\u001b[0mcheck_schema\u001b[0m\u001b[1;33m(\u001b[0m\u001b[0mschema\u001b[0m\u001b[1;33m)\u001b[0m\u001b[1;33m\u001b[0m\u001b[0m\n\u001b[1;32m--> 478\u001b[1;33m     \u001b[0mcls\u001b[0m\u001b[1;33m(\u001b[0m\u001b[0mschema\u001b[0m\u001b[1;33m,\u001b[0m \u001b[1;33m*\u001b[0m\u001b[0margs\u001b[0m\u001b[1;33m,\u001b[0m \u001b[1;33m**\u001b[0m\u001b[0mkwargs\u001b[0m\u001b[1;33m)\u001b[0m\u001b[1;33m.\u001b[0m\u001b[0mvalidate\u001b[0m\u001b[1;33m(\u001b[0m\u001b[0minstance\u001b[0m\u001b[1;33m)\u001b[0m\u001b[1;33m\u001b[0m\u001b[0m\n\u001b[0m",
      "\u001b[1;32m/home/benus/.local/lib/python3.4/site-packages/jsonschema/validators.py\u001b[0m in \u001b[0;36mvalidate\u001b[1;34m(self, *args, **kwargs)\u001b[0m\n\u001b[0;32m    121\u001b[0m         \u001b[1;32mdef\u001b[0m \u001b[0mvalidate\u001b[0m\u001b[1;33m(\u001b[0m\u001b[0mself\u001b[0m\u001b[1;33m,\u001b[0m \u001b[1;33m*\u001b[0m\u001b[0margs\u001b[0m\u001b[1;33m,\u001b[0m \u001b[1;33m**\u001b[0m\u001b[0mkwargs\u001b[0m\u001b[1;33m)\u001b[0m\u001b[1;33m:\u001b[0m\u001b[1;33m\u001b[0m\u001b[0m\n\u001b[0;32m    122\u001b[0m             \u001b[1;32mfor\u001b[0m \u001b[0merror\u001b[0m \u001b[1;32min\u001b[0m \u001b[0mself\u001b[0m\u001b[1;33m.\u001b[0m\u001b[0miter_errors\u001b[0m\u001b[1;33m(\u001b[0m\u001b[1;33m*\u001b[0m\u001b[0margs\u001b[0m\u001b[1;33m,\u001b[0m \u001b[1;33m**\u001b[0m\u001b[0mkwargs\u001b[0m\u001b[1;33m)\u001b[0m\u001b[1;33m:\u001b[0m\u001b[1;33m\u001b[0m\u001b[0m\n\u001b[1;32m--> 123\u001b[1;33m                 \u001b[1;32mraise\u001b[0m \u001b[0merror\u001b[0m\u001b[1;33m\u001b[0m\u001b[0m\n\u001b[0m\u001b[0;32m    124\u001b[0m \u001b[1;33m\u001b[0m\u001b[0m\n\u001b[0;32m    125\u001b[0m         \u001b[1;32mdef\u001b[0m \u001b[0mis_type\u001b[0m\u001b[1;33m(\u001b[0m\u001b[0mself\u001b[0m\u001b[1;33m,\u001b[0m \u001b[0minstance\u001b[0m\u001b[1;33m,\u001b[0m \u001b[0mtype\u001b[0m\u001b[1;33m)\u001b[0m\u001b[1;33m:\u001b[0m\u001b[1;33m\u001b[0m\u001b[0m\n",
      "\u001b[1;31mValidationError\u001b[0m: {'argument': '', 'operation': 'Change coding systems', 'user': 'd.weibel', 'result': 'ICD10CM, ICD9CM, ICPC2EENG, ICPC2P, RCD, RCD2', 'date': '2015-11-24T12:51:52.538Z'} is not valid under any of the given schemas\n\nFailed validating 'oneOf' in schema['properties']['mapping']['properties']['history']['items']:\n    {'oneOf': [{'additionalProperties': False,\n                'properties': {'argument': {'type': 'null'},\n                               'date': {'format': 'date-time',\n                                        'type': 'string'},\n                               'operation': {'enum': ['Automatic '\n                                                      'coding'],\n                                             'type': 'string'},\n                               'result': {'$ref': '#/definitions/reduced_concept_array'},\n                               'user': {'type': 'string'}},\n                'required': ['date',\n                             'user',\n                             'operation',\n                             'argument',\n                             'result'],\n                'type': 'object'},\n               {'additionalProperties': False,\n                'properties': {'argument': {'$ref': '#/definitions/reduced_concept_array'},\n                               'date': {'format': 'date-time',\n                                        'type': 'string'},\n                               'operation': {'enum': ['Expand to '\n                                                      'more specific',\n                                                      'Expand to '\n                                                      'more general'],\n                                             'type': 'string'},\n                               'result': {'$ref': '#/definitions/reduced_concept_array'},\n                               'user': {'type': 'string'}},\n                'required': ['date',\n                             'user',\n                             'operation',\n                             'argument',\n                             'result'],\n                'type': 'object'},\n               {'additionalProperties': False,\n                'properties': {'argument': {'type': 'string'},\n                               'date': {'format': 'date-time',\n                                        'type': 'string'},\n                               'operation': {'enum': ['Summarize'],\n                                             'type': 'string'},\n                               'result': {'type': 'null'},\n                               'user': {'type': 'string'}},\n                'required': ['date',\n                             'user',\n                             'operation',\n                             'argument',\n                             'result'],\n                'type': 'object'},\n               {'additionalProperties': False,\n                'properties': {'argument': {'type': 'string'},\n                               'date': {'format': 'date-time',\n                                        'type': 'string'},\n                               'operation': {'enum': ['Search'],\n                                             'type': 'string'},\n                               'result': {'$ref': '#/definitions/reduced_concept_array'},\n                               'user': {'type': 'string'}},\n                'required': ['date',\n                             'user',\n                             'operation',\n                             'argument',\n                             'result'],\n                'type': 'object'},\n               {'additionalProperties': False,\n                'properties': {'argument': {'type': 'null'},\n                               'date': {'format': 'date-time',\n                                        'type': 'string'},\n                               'operation': {'enum': ['Add'],\n                                             'type': 'string'},\n                               'result': {'$ref': '#/definitions/reduced_concept'},\n                               'user': {'type': 'string'}},\n                'required': ['date',\n                             'user',\n                             'operation',\n                             'argument',\n                             'result'],\n                'type': 'object'},\n               {'additionalProperties': False,\n                'properties': {'argument': {'$ref': '#/definitions/reduced_concept_array'},\n                               'date': {'format': 'date-time',\n                                        'type': 'string'},\n                               'operation': {'enum': ['Delete'],\n                                             'type': 'string'},\n                               'result': {'type': 'null'},\n                               'user': {'type': 'string'}},\n                'required': ['date',\n                             'user',\n                             'operation',\n                             'argument',\n                             'result'],\n                'type': 'object'},\n               {'additionalProperties': False,\n                'properties': {'argument': {'$ref': '#/definitions/reduced_concept_array'},\n                               'date': {'format': 'date-time',\n                                        'type': 'string'},\n                               'operation': {'enum': ['Edit codes'],\n                                             'type': 'string'},\n                               'result': {'type': 'string'},\n                               'user': {'type': 'string'}},\n                'required': ['date',\n                             'user',\n                             'operation',\n                             'argument',\n                             'result'],\n                'type': 'object'}]}\n\nOn instance['mapping']['history'][1]:\n    {'argument': '',\n     'date': '2015-11-24T12:51:52.538Z',\n     'operation': 'Change coding systems',\n     'result': 'ICD10CM, ICD9CM, ICPC2EENG, ICPC2P, RCD, RCD2',\n     'user': 'd.weibel'}"
     ]
    }
   ],
   "source": [
    "query = \"\"\"\n",
    "    SELECT id, name, state FROM `case_definitions`\n",
    "\"\"\"\n",
    "with connection.cursor() as cursor:\n",
    "    cursor.execute(query)\n",
    "    for case_definition in cursor.fetchall():\n",
    "        print('#', case_definition['name'])\n",
    "        state = json.loads(case_definition['state'])\n",
    "        validate(state)"
   ]
  },
  {
   "cell_type": "code",
   "execution_count": null,
   "metadata": {
    "collapsed": true
   },
   "outputs": [],
   "source": []
  }
 ],
 "metadata": {
  "kernelspec": {
   "display_name": "Python 3",
   "language": "python",
   "name": "python3"
  },
  "language_info": {
   "codemirror_mode": {
    "name": "ipython",
    "version": 3
   },
   "file_extension": ".py",
   "mimetype": "text/x-python",
   "name": "python",
   "nbconvert_exporter": "python",
   "pygments_lexer": "ipython3",
   "version": "3.4.2"
  }
 },
 "nbformat": 4,
 "nbformat_minor": 0
}
