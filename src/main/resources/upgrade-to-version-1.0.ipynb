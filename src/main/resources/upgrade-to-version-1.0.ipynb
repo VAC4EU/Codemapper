{
 "cells": [
  {
   "cell_type": "code",
   "execution_count": 1,
   "metadata": {
    "collapsed": true
   },
   "outputs": [],
   "source": [
    "import pymysql\n",
    "import copy\n",
    "import json"
   ]
  },
  {
   "cell_type": "code",
   "execution_count": 3,
   "metadata": {
    "collapsed": false
   },
   "outputs": [],
   "source": [
    "connection = pymysql.connect(\"127.0.0.1\", \"root\", \"root\", \"code-mapper-beta\", cursorclass=pymysql.cursors.DictCursor)"
   ]
  },
  {
   "cell_type": "markdown",
   "metadata": {},
   "source": [
    "# Upgrade"
   ]
  },
  {
   "cell_type": "code",
   "execution_count": 14,
   "metadata": {
    "collapsed": false
   },
   "outputs": [],
   "source": [
    "def upgrade(state):\n",
    "    state = copy.deepcopy(state)\n",
    "    \n",
    "    if \"cuiAssignment\" not in state:\n",
    "        print(\" - Create cuiAssignment\")\n",
    "        state['cuiAssignment'] = {}\n",
    "        cuis = [concept['cui'] for concept in state['mapping']['concepts']]\n",
    "        for concept in state['indexing']['concepts']:\n",
    "            include = concept['cui'] in cuis\n",
    "            state['cuiAssignment'][concept['cui']] = \\\n",
    "                \"include\" if include else \"exclude\"\n",
    "                \n",
    "    if 'codingSystems' not in state:\n",
    "        print(\" - Move codingSystems\")\n",
    "        assert state['mapping']['codingSystems']\n",
    "        state['codingSystems'] = state['mapping']['codingSystems']\n",
    "        del state['mapping']['codingSystems']\n",
    "        \n",
    "    if 'semanticTypes' in state['mapping']:\n",
    "        print(\" - Remove semanticTypes\")\n",
    "        del state['mapping']['semanticTypes']\n",
    "        \n",
    "    if any('comments' not in concept for concept in state['mapping']['concepts']):\n",
    "        for concept in state['mapping']['concepts']:\n",
    "            if 'comments' not in concept:\n",
    "                concept['comments'] = []        \n",
    "    \n",
    "    if any('codingSystem' not in sourceConcept\n",
    "           for concept in state['mapping']['concepts']\n",
    "           for sourceConcept in concept['sourceConcepts']):\n",
    "        print(\" - Upgrade codingSystem fields\")\n",
    "        for concept in state['mapping']['concepts']:\n",
    "            for source_concept in concept['sourceConcepts']:\n",
    "                if 'vocabulary' in source_concept:\n",
    "                    source_concept['codingSystem'] = source_concept['vocabulary']\n",
    "                    del source_concept['vocabulary']\n",
    "            for coding_system in concept['codes']:\n",
    "                for source_concept in concept['codes'][coding_system]:\n",
    "                    if 'vocabulary' in source_concept:\n",
    "                        source_concept['codingSystem'] = source_concept['vocabulary']\n",
    "                        del source_concept['vocabulary']\n",
    "    return state"
   ]
  },
  {
   "cell_type": "code",
   "execution_count": 15,
   "metadata": {
    "collapsed": false
   },
   "outputs": [
    {
     "name": "stdout",
     "output_type": "stream",
     "text": [
      "# Pertussis BB\n",
      "# test BB\n",
      "# Infectious disease KG\n",
      "# test rh\n",
      "# Dementia\n",
      "# thrombocytopenia BC\n",
      "# thrombocytopenia PLAIN\n",
      "# IHD_pmc\n",
      "# pertussis PLAIN\n",
      "# pertussis ECDC\n",
      "# anaphylaxis PLAIN\n",
      "# Bullous eruption_pmc\n",
      "# Intussusception_pmc\n",
      "# Thromboembolic events_pmc\n",
      "# Rhabdomyolysis_pmc\n",
      "# test again)IHD_pmc\n",
      "# test2\n",
      "# anaphylaxis BC\n",
      "# anaphylaxis US-IAID\n",
      "# gbs PLAIN\n",
      "# gbs BC\n",
      "# POC_pertussis\n",
      "# pertussis v2\n",
      "# aeaea\n",
      "# injection_site_recation\n",
      "# injection_site_recation-exclusion\n",
      "# fever\n",
      "# somnolence\n",
      "# crying\n",
      "# febrile seizure - convulsions\n",
      "# generalized seizure - convulsions\n",
      "# Hypotonic-hyporesponsive episode\n"
     ]
    }
   ],
   "source": [
    "query = \"\"\"\n",
    "    SELECT id, name, state FROM `case_definitions`\n",
    "\"\"\"\n",
    "update = \"\"\"\n",
    "    UPDATE `case_definitions` SET `state` = %s WHERE `id` = %s\n",
    "\"\"\"\n",
    "with connection.cursor() as cursor:\n",
    "    cursor.execute(query)\n",
    "    for case_definition in cursor.fetchall():\n",
    "        print('#', case_definition['name'])\n",
    "        state = json.loads(case_definition['state'])\n",
    "        new_state = json.dumps(upgrade(state))\n",
    "        cursor.execute(update, (new_state, case_definition['id']))\n",
    "        connection.commit()"
   ]
  },
  {
   "cell_type": "markdown",
   "metadata": {
    "collapsed": true
   },
   "source": [
    "# Validate"
   ]
  },
  {
   "cell_type": "code",
   "execution_count": 12,
   "metadata": {
    "collapsed": false
   },
   "outputs": [],
   "source": [
    "import jsonschema\n",
    "import yaml\n",
    "\n",
    "schema = yaml.load(open('state-schema.yaml'))\n",
    "\n",
    "def validate(state):\n",
    "    jsonschema.validate(state, schema)"
   ]
  },
  {
   "cell_type": "code",
   "execution_count": 13,
   "metadata": {
    "collapsed": false
   },
   "outputs": [
    {
     "name": "stdout",
     "output_type": "stream",
     "text": [
      "# Pertussis BB\n",
      "# test BB\n",
      "# Infectious disease KG\n",
      "# test rh\n",
      "# Dementia\n",
      "# thrombocytopenia BC\n",
      "# thrombocytopenia PLAIN\n",
      "# IHD_pmc\n",
      "# pertussis PLAIN\n",
      "# pertussis ECDC\n",
      "# anaphylaxis PLAIN\n",
      "# Bullous eruption_pmc\n",
      "# Intussusception_pmc\n",
      "# Thromboembolic events_pmc\n",
      "# Rhabdomyolysis_pmc\n",
      "# test again)IHD_pmc\n",
      "# test2\n",
      "# anaphylaxis BC\n",
      "# anaphylaxis US-IAID\n",
      "# gbs PLAIN\n",
      "# gbs BC\n",
      "# POC_pertussis\n",
      "# pertussis v2\n",
      "# aeaea\n",
      "# injection_site_recation\n",
      "# injection_site_recation-exclusion\n",
      "# fever\n",
      "# somnolence\n",
      "# crying\n",
      "# febrile seizure - convulsions\n",
      "# generalized seizure - convulsions\n",
      "# Hypotonic-hyporesponsive episode\n"
     ]
    }
   ],
   "source": [
    "query = \"\"\"\n",
    "    SELECT id, name, state FROM `case_definitions`\n",
    "\"\"\"\n",
    "with connection.cursor() as cursor:\n",
    "    cursor.execute(query)\n",
    "    for case_definition in cursor.fetchall():\n",
    "        print('#', case_definition['name'])\n",
    "        state = json.loads(case_definition['state'])\n",
    "        validate(state)"
   ]
  }
 ],
 "metadata": {
  "kernelspec": {
   "display_name": "Python 3",
   "language": "python",
   "name": "python3"
  },
  "language_info": {
   "codemirror_mode": {
    "name": "ipython",
    "version": 3
   },
   "file_extension": ".py",
   "mimetype": "text/x-python",
   "name": "python",
   "nbconvert_exporter": "python",
   "pygments_lexer": "ipython3",
   "version": "3.4.2"
  }
 },
 "nbformat": 4,
 "nbformat_minor": 0
}
