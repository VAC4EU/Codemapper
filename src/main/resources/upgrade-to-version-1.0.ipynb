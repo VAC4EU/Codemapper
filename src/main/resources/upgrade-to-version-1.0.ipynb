{
 "cells": [
  {
   "cell_type": "code",
   "execution_count": 12,
   "metadata": {
    "collapsed": true
   },
   "outputs": [],
   "source": [
    "import pymysql\n",
    "import copy\n",
    "import json"
   ]
  },
  {
   "cell_type": "code",
   "execution_count": 38,
   "metadata": {
    "collapsed": false
   },
   "outputs": [],
   "source": [
    "def upgrade(state):\n",
    "    state = copy.deepcopy(state)\n",
    "    \n",
    "    if \"cuiAssignment\" not in state:\n",
    "        print(\" • Create cuiAssignment\")\n",
    "        state['cuiAssignment'] = {}\n",
    "        cuis = [concept['cui'] for concept in state['mapping']['concepts']]\n",
    "        for concept in state['indexing']['concepts']:\n",
    "            include = concept['cui'] in cuis\n",
    "            state['cuiAssignment'][concept['cui']] = \\\n",
    "                \"include\" if include else \"exclude\"\n",
    "                \n",
    "    if 'codingSystems' not in state:\n",
    "        print(\" • Move codingSystems\")\n",
    "        assert state['mapping']['codingSystems']\n",
    "        state['codingSystems'] = state['mapping']['codingSystems']\n",
    "        del state['mapping']['codingSystems']\n",
    "        \n",
    "    if 'semanticTypes' in state['mapping']:\n",
    "        print(\" • Remove semanticTypes\")\n",
    "        del state['mapping']['semanticTypes']\n",
    "    \n",
    "    if any('codingSystem' not in sourceConcept\n",
    "           for concept in state['mapping']['concepts']\n",
    "           for sourceConcept in concept['sourceConcepts']):\n",
    "        print(\" • Upgrade codingSystem fields\")\n",
    "        for concept in state['mapping']['concepts']:\n",
    "            for sourceConcept in concept['sourceConcepts']:\n",
    "                assert 'vocabulary' in sourceConcept\n",
    "                sourceConcept['codingSystem'] = sourceConcept['vocabulary']\n",
    "                del sourceConcept['vocabulary']\n",
    "\n",
    "    return state"
   ]
  },
  {
   "cell_type": "code",
   "execution_count": 46,
   "metadata": {
    "collapsed": false
   },
   "outputs": [],
   "source": [
    "connection = pymysql.connect(\"127.0.0.1\", \"root\", \"root\", \"code-mapper-testing\", cursorclass=pymysql.cursors.DictCursor)"
   ]
  },
  {
   "cell_type": "code",
   "execution_count": 56,
   "metadata": {
    "collapsed": false
   },
   "outputs": [
    {
     "name": "stdout",
     "output_type": "stream",
     "text": [
      "Pertussis BB\n",
      "test BB\n",
      "Infectious disease KG\n",
      "test rh\n",
      "Dementia\n",
      "thrombocytopenia BC\n",
      "thrombocytopenia PLAIN\n",
      "IHD_pmc\n",
      "pertussis PLAIN\n",
      "pertussis ECDC\n",
      "anaphylaxis PLAIN\n",
      "Intussusception_pmc\n",
      "Thromboembolic events_pmc\n",
      "Rhabdomyolysis_pmc\n",
      "test again)IHD_pmc\n",
      "test2\n",
      "anaphylaxis BC\n",
      "anaphylaxis US-IAID\n",
      "gbs PLAIN\n",
      "gbs BC\n",
      "uiae\n",
      "test BBx\n"
     ]
    }
   ],
   "source": [
    "query = \"\"\"\n",
    "    SELECT id, name, state FROM `case_definitions`\n",
    "\"\"\"\n",
    "update = \"\"\"\n",
    "    UPDATE `case_definitions` SET `state` = %s WHERE `id` = %s\n",
    "\"\"\"\n",
    "with connection.cursor() as cursor:\n",
    "    cursor.execute(query)\n",
    "    for case_definition in cursor.fetchall():\n",
    "        print(case_definition['name'])\n",
    "        state = json.loads(case_definition['state'])\n",
    "        new_state = json.dumps(upgrade(state))\n",
    "        cursor.execute(update, (new_state, case_definition['id']))\n",
    "        connection.commit()"
   ]
  }
 ],
 "metadata": {
  "kernelspec": {
   "display_name": "Python 3",
   "language": "python",
   "name": "python3"
  },
  "language_info": {
   "codemirror_mode": {
    "name": "ipython",
    "version": 3
   },
   "file_extension": ".py",
   "mimetype": "text/x-python",
   "name": "python",
   "nbconvert_exporter": "python",
   "pygments_lexer": "ipython3",
   "version": "3.4.2"
  }
 },
 "nbformat": 4,
 "nbformat_minor": 0
}
