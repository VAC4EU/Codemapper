{
 "cells": [
  {
   "cell_type": "code",
   "execution_count": 4,
   "id": "0c6a3d45-a583-4bb3-9f24-68e3a2569281",
   "metadata": {},
   "outputs": [],
   "source": [
    "import pandas as pd\n",
    "from glob import glob"
   ]
  },
  {
   "cell_type": "markdown",
   "id": "e0230b8c-fe86-4974-a6ec-da4838d7fa22",
   "metadata": {},
   "source": [
    "## Coding systems"
   ]
  },
  {
   "cell_type": "code",
   "execution_count": 6,
   "id": "bc73c60e-b577-408a-86a3-c90e108dd504",
   "metadata": {},
   "outputs": [
    {
     "name": "stdout",
     "output_type": "stream",
     "text": [
      "- CVB\n",
      "- EXCLU\n",
      "- Free_text\n",
      "- HCPCS\n",
      "- HCPT\n",
      "- HSD_ACCERT\n",
      "- IC9CM\n",
      "- ICD-10-CM\n",
      "- ICD-10-PCS\n",
      "- ICD-9-CM\n",
      "- ICD-9CM\n",
      "- ICD10\n",
      "- ICD10-PCS\n",
      "- ICD10/CM\n",
      "- ICD10CM\n",
      "- ICD10DA\n",
      "- ICD9-CM\n",
      "- ICD9CM\n",
      "- ICD9CM_HSD\n",
      "- ICPC\n",
      "- ICPC2\n",
      "- ICPC2EENG\n",
      "- ICPC2P\n",
      "- MDR\n",
      "- MEDCODEID\n",
      "- MTHICD9\n",
      "- NCMP-NCSP-NCRP\n",
      "- PROCDA\n",
      "- RCD\n",
      "- RCD2\n",
      "- SCTSPA\n",
      "- SCTSPA_SNS\n",
      "- SNM\n",
      "- SNMI\n",
      "- SNOMED\n",
      "- SNOMEDCT_US\n",
      "- SNOMED_US\n",
      "- SPA_EXT\n",
      "- ZA\n"
     ]
    }
   ],
   "source": [
    "def coding_systems(indir):\n",
    "    res = set()\n",
    "    for infile in sorted(glob(f\"{indir}/*.csv\")):\n",
    "        if infile == f\"{indir}/index.csv\":\n",
    "            continue\n",
    "        df = pd.read_csv(infile, dtype=str, na_filter=False)\n",
    "        for sab in df.coding_system:\n",
    "            if sab:\n",
    "                res.add(sab)\n",
    "    return sorted(res)\n",
    "\n",
    "for sab in coding_systems(\"AESI-norm\"):\n",
    "    print(f\"- {sab}\")"
   ]
  },
  {
   "cell_type": "markdown",
   "id": "cd408457-a615-45ab-abb3-007f867dd0ae",
   "metadata": {},
   "source": [
    "echo 'select state from case_definitions ' \\\n",
    "| sudo -u postgres psql codemapper \\\n",
    "| head -n-1 | tail -n+3 \\\n",
    "| jq '.codingSystems' \\\n",
    "| grep '^  \"' | sed 's/^  \"\\([^\"]*\\)\",*$/\\1/' \\\n",
    "| sort | uniq -c | sort -h\n",
    "\n",
    "      1 ICPCNOR\n",
    "      1 KCD5\n",
    "      1 RCDAE\n",
    "      1 WHOSPA\n",
    "      2 CCSR_ICD10PCS\n",
    "      2 ICPC2ICD10DUT\n",
    "      2 ICPC2ICD10ENG\n",
    "      2 LNC\n",
    "      3 ICPCDUT\n",
    "      4 SNMI\n",
    "      9 HCPT\n",
    "     10 HCPCS\n",
    "     15 ICD10PCS\n",
    "     15 ICPC2EDUT\n",
    "     27 MSH\n",
    "     65 SNM\n",
    "     76 MDR\n",
    "    189 ICD10/CM\n",
    "    227 RCD\n",
    "    326 ICPC2EENG\n",
    "    364 ICPC\n",
    "    416 SCTSPA\n",
    "    446 MTHICD9\n",
    "    501 SNOMEDCT_US\n",
    "    583 ICPC2P\n",
    "    607 ICD10\n",
    "    623 RCD2\n",
    "    632 ICD10CM\n",
    "    731 ICD9CM\n"
   ]
  }
 ],
 "metadata": {
  "kernelspec": {
   "display_name": "Python 3 (ipykernel)",
   "language": "python",
   "name": "python3"
  },
  "language_info": {
   "codemirror_mode": {
    "name": "ipython",
    "version": 3
   },
   "file_extension": ".py",
   "mimetype": "text/x-python",
   "name": "python",
   "nbconvert_exporter": "python",
   "pygments_lexer": "ipython3",
   "version": "3.11.9"
  }
 },
 "nbformat": 4,
 "nbformat_minor": 5
}
